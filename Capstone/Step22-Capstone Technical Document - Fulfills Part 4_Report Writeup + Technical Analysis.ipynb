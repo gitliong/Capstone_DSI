{
 "cells": [
  {
   "cell_type": "markdown",
   "metadata": {},
   "source": [
    "## Capstone Writeup and Technical Analysis ##\n",
    "\n",
    "\n",
    "## Understanding the Data Science job market in the Atlanta regional area##"
   ]
  },
  {
   "cell_type": "code",
   "execution_count": null,
   "metadata": {},
   "outputs": [],
   "source": []
  },
  {
   "cell_type": "markdown",
   "metadata": {},
   "source": [
    "Executive Summary and Problem Statement\n",
    "\n",
    "**Executive Summary**\n",
    "There exists websites that provide you a match percentage of ones resume against a job description. \n",
    "There exists websites that provide a geographic representation of jobs in a given area. \n",
    "There exists services that provide real time traffic visual representation in a given area. \n",
    "However - there is not a service that provides all these three data points simultaneously. \n",
    "I believe a service that provides this could help job seekers be more informed in the decisions they are making about their careers. \n",
    "\n",
    "Example: A job seeker that moves into a new city can better compare different opportunities based on commute distance and typical traffic patterns. \n",
    "\n",
    "**Problem Statement**\n",
    "Can a platform be created where job seekers are provided a better visual and analytical overview of jobs they \n",
    "are considering? \n",
    "\n",
    "\n",
    "\n"
   ]
  },
  {
   "cell_type": "markdown",
   "metadata": {},
   "source": [
    "**Results:** \n",
    "\n",
    "A model that can predict the cosine_similarity between two or more documents. \n",
    "I then use these results to provide a visual overview of the best matching jobs to ones profile. \n",
    "Additionally \n",
    "\n",
    "\n",
    "\n",
    "**Scope Statement**\n",
    "Provide a visual overview of the data science jobs available in the Atlanta area and the \n",
    "percentage match a given document is to the provided job description. Additionally provide traffic information\n",
    "to better "
   ]
  },
  {
   "cell_type": "markdown",
   "metadata": {},
   "source": [
    "**Summary**\n",
    "\n",
    "To accomplish the scope above the following procedures were utilized. \n",
    "\n",
    "1. Examine different models to determine which model would provide the best results for document comparisons. \n",
    "2. Examine different platforms to determine which would provide the best map layout overview. \n",
    "3. Examine which platforms can accomodate a traffic overview\n",
    "4. As an addendum to this Capstone - I will also be using Tableau to better understand those who are switching careers to go into the field of Data Science. "
   ]
  },
  {
   "cell_type": "code",
   "execution_count": null,
   "metadata": {},
   "outputs": [],
   "source": []
  }
 ],
 "metadata": {
  "kernelspec": {
   "display_name": "Python [default]",
   "language": "python",
   "name": "python3"
  },
  "language_info": {
   "codemirror_mode": {
    "name": "ipython",
    "version": 3
   },
   "file_extension": ".py",
   "mimetype": "text/x-python",
   "name": "python",
   "nbconvert_exporter": "python",
   "pygments_lexer": "ipython3",
   "version": "3.6.4"
  }
 },
 "nbformat": 4,
 "nbformat_minor": 2
}
