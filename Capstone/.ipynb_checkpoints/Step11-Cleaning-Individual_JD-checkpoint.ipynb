{
 "cells": [
  {
   "cell_type": "markdown",
   "metadata": {},
   "source": [
    "## Step 11-Cleaning Individual Job Descriptions to prepare for Cosine Similarity Processing ##\n",
    "\n",
    "\n",
    "In this step  we will clean each of the individual job descriptions that we pasted into Excel. \n",
    "\n",
    "Note the use again of pd.read_excel\n",
    "\n",
    "Essentially not much cleaning needs to be done - just making sure the column names are correct. "
   ]
  },
  {
   "cell_type": "code",
   "execution_count": 1,
   "metadata": {},
   "outputs": [],
   "source": [
    "import pandas as pd\n",
    "from sklearn.feature_extraction.text import CountVectorizer\n",
    "from sklearn.feature_extraction import stop_words\n",
    "\n",
    "cvec = CountVectorizer(stop_words = stop_words.ENGLISH_STOP_WORDS)"
   ]
  },
  {
   "cell_type": "code",
   "execution_count": 2,
   "metadata": {},
   "outputs": [],
   "source": [
    "df5 = pd.read_excel('Job_Descriptions_ Excel/Hiscox.xlsx')"
   ]
  },
  {
   "cell_type": "code",
   "execution_count": 3,
   "metadata": {},
   "outputs": [],
   "source": [
    "df5.to_csv('Job_Descriptions_csv/Hiscox.csv', index=False)"
   ]
  },
  {
   "cell_type": "code",
   "execution_count": 4,
   "metadata": {},
   "outputs": [
    {
     "data": {
      "text/html": [
       "<div>\n",
       "<style scoped>\n",
       "    .dataframe tbody tr th:only-of-type {\n",
       "        vertical-align: middle;\n",
       "    }\n",
       "\n",
       "    .dataframe tbody tr th {\n",
       "        vertical-align: top;\n",
       "    }\n",
       "\n",
       "    .dataframe thead th {\n",
       "        text-align: right;\n",
       "    }\n",
       "</style>\n",
       "<table border=\"1\" class=\"dataframe\">\n",
       "  <thead>\n",
       "    <tr style=\"text-align: right;\">\n",
       "      <th></th>\n",
       "      <th>Text</th>\n",
       "    </tr>\n",
       "  </thead>\n",
       "  <tbody>\n",
       "    <tr>\n",
       "      <th>0</th>\n",
       "      <td>['Data Scientist job - Hiscox Ltd - Atlanta, G...</td>\n",
       "    </tr>\n",
       "    <tr>\n",
       "      <th>1</th>\n",
       "      <td>['Data Scientist', 'Position:', 'Reporting to:...</td>\n",
       "    </tr>\n",
       "    <tr>\n",
       "      <th>2</th>\n",
       "      <td>['\\nData Scientist jobs in Atlanta, GA\\n', '\\n...</td>\n",
       "    </tr>\n",
       "    <tr>\n",
       "      <th>3</th>\n",
       "      <td>['Are you a business problem solver who is pas...</td>\n",
       "    </tr>\n",
       "  </tbody>\n",
       "</table>\n",
       "</div>"
      ],
      "text/plain": [
       "                                                Text\n",
       "0  ['Data Scientist job - Hiscox Ltd - Atlanta, G...\n",
       "1  ['Data Scientist', 'Position:', 'Reporting to:...\n",
       "2  ['\\nData Scientist jobs in Atlanta, GA\\n', '\\n...\n",
       "3  ['Are you a business problem solver who is pas..."
      ]
     },
     "execution_count": 4,
     "metadata": {},
     "output_type": "execute_result"
    }
   ],
   "source": [
    "pd.read_csv('Job_Descriptions_csv/Hiscox.csv')#.drop('0', axis=1)"
   ]
  },
  {
   "cell_type": "code",
   "execution_count": 5,
   "metadata": {},
   "outputs": [
    {
     "data": {
      "text/plain": [
       "\"['Are you a business problem solver who is passionate about using data analytics to influence business decisions? If so, the Data Scientist role is the perfect fit for you.\\\\n\\\\nPosition: Data Scientist\\\\n\\\\nReporting to: Head of Business Intelligence & Data Analytics\\\\n\\\\nLocation: Atlanta GA\\\\n\\\\nAbout the Business Intelligence Team:\\\\nHighly skilled, close knit, technical and functional analytical team. This team spans between Manhattan NY and Atlanta GA.\\\\n\\\\nThe role\\\\n\\\\nThis is a high impact role for a critical thinker who enjoys applying core technical skills and innovative thinking to solve complex business problems and identify business opportunity. The incumbent will be versatile who must be able to successfully operate in a fast-paced and rapidly changing environment, handle multiple competing priorities, support evidence-based decision logic and provide predictive modelling solutions.\\\\n\\\\nYou’ll work as part of a team whose efforts will be wide-ranging, spanning multiple business functions and require a multi-disciplinary approach to problem solving and analysis. The position will report to the Pricing & Analytics, Manager with a dotted reporting line to the EVP, Direct & Partnerships Division. The role will focus on continuous analysis and data mining of end to end operations and the direct customer lifecycle to help grow our direct to consumer customer base.\\\\n\\\\nThis role will be given the latitude to examine all information in relation to the direct business without the restrictions of project based work, and will be expected to use their inquisitive nature to mine for opportunity and insights often within a loose directional framework. The final products you produce could range from predictive models and scoring for decision support to ad-hoc analysis. You will be expected to challenge conventional thinking and drive fact based decision making.\\\\n\\\\nThis is an ideal role for an individual who is passionate about the use of analytics to influence decisions. The individual will be expected to conceptualize new ways of doing things, communicate their vision simply and effectively to key stakeholders, and see them all the way through to implementation\\\\n\\\\nThis is a fantastic opportunity to join Hiscox USA, a growing business where you will be able to make a real impact. You will become part of a team that is driving innovation and leading the company to develop strong analytic capabilities.\\\\n\\\\n. What you’ll be doing as a Data Scientist:\\\\nContinuously analyse the end to end customer journey to help drive insights into the acquisition, conversion or retention of a customer across marketing, operations, claims or other areas within DPD.\\\\n\\\\nConduct ad-hoc analysis as requested or as identified independently that supports periodic assumption setting and/or provides the business with greater insights into DPD policyholder or potential customer behaviour.\\\\n\\\\nWork closely with senior leaders in understanding DPD business strategy and assist in guiding and supporting strategic direction by providing compelling recommendations derived from advanced analytics\\\\n\\\\nUnderstanding complex business challenges, designing scientific solutions, manipulating large data sets, using cutting edge machine learning or statistical modeling techniques to synthesize insights\\\\n\\\\nLeveraging industry standards, emerging methodologies and empirical research to develop critical inputs to business information, and helping business leaders develop innovative approaches to driving their business.\\\\n\\\\nWorks closely with data & solution services to ensure data quality, data availability and industrialization of analytic procedures.\\\\n\\\\nWork collaboratively with other embedded data scientist in order to help support maturation of analytics practice within the organization.\\\\n\\\\nEnsure documentation standards are proactively met.\\\\n\\\\nOur must-haves:\\\\nDegree in Applied Mathematics, Statistics, Computer Science (or related fields).\\\\n\\\\n3-5 years of data mining and/or advanced analytics experience.\\\\n\\\\nExperience data mining in Ecommerce environment a plus\\\\n\\\\nSkills:\\\\nExperience in programming languages for large scale data and predictive analysis (predictive modeling, machine learning or data mining) to draw business inferences and clearly articulate findings for target audience.\\\\n\\\\nStrong experience with analytical tools / programming languages (R, Python, STATA, SPSS, SQL, MS cognitive services).\\\\n\\\\nStrong verbal and written communications skills, listening and teamwork, and effective presentation skills. This is absolutely essential since you will have a lot of exposure to different internal groups (data, IT, product, underwriting and sales) as well as third-party partners and customers (insurance companies).\\\\n\\\\nKnowledge of insurance and distribution practices a plus.\\\\n\\\\nStrong statistical modeling skills a plus.\\\\n\\\\nExperience with BI tools (i.e. Tableau, Cognos)\\\\n\\\\nHiscox Values\\\\n\\\\nAt Hiscox our spirit is in Challenging Convention and everything we do is guided by our Values.\\\\n\\\\nCourage: Do the right thing however hard\\\\n\\\\nQuality: World class where it matters\\\\n\\\\nIntegrity: True to our word\\\\n\\\\nExcellence in Execution: Consistent, timely, efficient delivery\\\\n\\\\nHuman: Firm, fair and inclusive\\\\n\\\\nWhat Hiscox USA Offers\\\\n\\\\nCompetitive salary and bonus (based on personal & company performance)\\\\n\\\\nComprehensive health insurance, Vision, Dental and FSA\\\\n\\\\n401(k) with competitive company matching\\\\n\\\\n24 Paid time off days\\\\n\\\\n10 paid holidays\\\\n\\\\nPaid sabbatical after 10 years of service\\\\n\\\\nDynamic, creative and values-driven culture\\\\n\\\\nModern and open office spaces, complimentary fruit and drinks\\\\n\\\\nSpirit of volunteerism, social responsibility and community involvement, including matching charitable donations for qualifying non-profits via our sister non-profit company, the Hiscox USA Foundation\\\\n\\\\nAbout Hiscox\\\\n\\\\nAs an international specialist insurer we are far removed from the world of mass market insurance products. Instead we are selective and focus on our key areas of expertise and strength - all of which is underpinned by a culture that encourages us to challenge convention and always look for a better way of doing things.\\\\n\\\\nWe insure the unique and the interesting. And we search for the same when it comes to talented people. Hiscox is full of smart, reliable human beings that look out for customers and each other. We believe in doing the right thing, making good and rebuilding when things go wrong. Everyone is encouraged to think creatively, challenge the status quo and look for solutions.\\\\n\\\\nScratch beneath the surface and you will find a business that is solid, but slightly contrary. We like to do things differently and constantly seek to evolve. We might have been around for a long time (our roots go back to 1901), but we are young in many ways, ambitious and going places.\\\\n\\\\nSome people might say insurance is dull, but life at Hiscox is anything but. If that sounds good to you, get in touch.\\\\n\\\\nAbout Hiscox US\\\\n\\\\nHiscox USA was established in 2006 to focus primarily on the needs of small and middle market commercial clients, via both the broker and direct distribution channels and is today the fastest-growing business unit within the Hiscox Group.\\\\n\\\\nToday, Hiscox USA has a talent force of about 420 employees mostly operating out of 6 major cities - New York, Atlanta, Dallas, Chicago, Los Angeles and San Francisco. Hiscox USA offers a broad portfolio of commercial products, including technology, cyber & data risk, multiple professional liability lines, media, entertainment, management liability, crime, kidnap & ransom, commercial property and terrorism.\\\\n\\\\nYou can follow Hiscox on LinkedIn, Glassdoor and Instagram (@HiscoxInsurance)\\\\n\\\\n#LI-VG1']\""
      ]
     },
     "execution_count": 5,
     "metadata": {},
     "output_type": "execute_result"
    }
   ],
   "source": [
    "df5['Text'][3]"
   ]
  },
  {
   "cell_type": "code",
   "execution_count": null,
   "metadata": {},
   "outputs": [],
   "source": []
  }
 ],
 "metadata": {
  "kernelspec": {
   "display_name": "Python [conda env:anaconda3]",
   "language": "python",
   "name": "conda-env-anaconda3-py"
  },
  "language_info": {
   "codemirror_mode": {
    "name": "ipython",
    "version": 3
   },
   "file_extension": ".py",
   "mimetype": "text/x-python",
   "name": "python",
   "nbconvert_exporter": "python",
   "pygments_lexer": "ipython3",
   "version": "3.6.4"
  }
 },
 "nbformat": 4,
 "nbformat_minor": 2
}
