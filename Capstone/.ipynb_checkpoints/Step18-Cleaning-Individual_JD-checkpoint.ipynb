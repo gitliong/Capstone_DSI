{
 "cells": [
  {
   "cell_type": "code",
   "execution_count": 2,
   "metadata": {},
   "outputs": [],
   "source": [
    "import pandas as pd\n",
    "from sklearn.feature_extraction.text import CountVectorizer\n",
    "from sklearn.feature_extraction import stop_words\n",
    "\n",
    "cvec = CountVectorizer(stop_words = stop_words.ENGLISH_STOP_WORDS)"
   ]
  },
  {
   "cell_type": "code",
   "execution_count": 3,
   "metadata": {},
   "outputs": [],
   "source": [
    "# custom_stopwords = ['000', '01', '06', '08','10254', '12', '15',\n",
    "#                    '19', '2018', '22', '25', '28', '45', '500',\n",
    "#                    'cox', 'norfolk', 'apply', 'com', 'www', 'applications', 'application',\n",
    "#                    'applicants', 'southern', 'https', 'ia', 'var', 'indeedapply', 'env',\n",
    "#                    'atlanta', 'opportunity', 'iip', 'gender', 'location', 'new', 'employer',\n",
    "#                    'midtown', 'manheim', 'ml', 'including', 'llc', 'truck', 'automotive', 'nationality', \n",
    "#                    'nation', 'iot', 'kelley', 'hopea', 'date', 'incadea', 'honeywell', '100', '1372', '27', '300',\n",
    "#                    '30308', '30309', '59', '60', '666', '715', '800', '850', '89', '90', 'ga', 'geo', 'genetic',\n",
    "#                     'mercedes', 'marta', 'lunch', 'familimarity', 'fitting', 'floors', 'furthermore', 'living', \n",
    "#                     'make', 'members', 'family', 'req149533', 'requisition', 'freshman', 'sophomore', 'et', 'etc',\n",
    "#                     'etl', 'job', 'invest', 'member', 'eye', 'relocation', 'Unnamed', 'wework', 'yarn', 'yrs',\n",
    "#                     'test', 'intent', 'intermediete', 'key', 'inflection', 'informatica', 'way', 'recent', 'fewer',\n",
    "#                     'iteratively', 'joining', 'd3', 'bi', 'bs', 'alteryx', 'benz', 'ai', 'arcgis', 'talend', 'al',\n",
    "#                     'bus', 'cassandra', 'growing', 'growth', 'guidance', 'bigdata', 'bigquery', 'cotiviti', \n",
    "#                     'councils', 'like', 'located', 'devops', 'usa', 'winning', 'ex'\n",
    "#                    ]"
   ]
  },
  {
   "cell_type": "code",
   "execution_count": 4,
   "metadata": {},
   "outputs": [],
   "source": [
    "# new list = default list stop_words.ENGLISH_STOP_WORDS\n",
    "# new list.append(whatever)\n",
    "\n",
    "# cvec = CountVectorizer(stop_words = new list)\n",
    "\n",
    "#new_stop = list(stop_words.ENGLISH_STOP_WORDS)\n",
    "\n",
    "#new_stop.extend(custom_stopwords)\n",
    "\n",
    "\n",
    "#cvec = CountVectorizer(stop_words = new_stop)\n",
    "\n",
    "#cvec = CountVectorizer(stop_words.ENGLISH_STOP_WORDS)"
   ]
  },
  {
   "cell_type": "code",
   "execution_count": 9,
   "metadata": {},
   "outputs": [],
   "source": [
    "df5 = pd.read_excel('Softvision.xlsx')"
   ]
  },
  {
   "cell_type": "code",
   "execution_count": 10,
   "metadata": {},
   "outputs": [],
   "source": [
    "df5.to_csv('Softvision.csv', index=False)"
   ]
  },
  {
   "cell_type": "code",
   "execution_count": 11,
   "metadata": {},
   "outputs": [
    {
     "data": {
      "text/html": [
       "<div>\n",
       "<style scoped>\n",
       "    .dataframe tbody tr th:only-of-type {\n",
       "        vertical-align: middle;\n",
       "    }\n",
       "\n",
       "    .dataframe tbody tr th {\n",
       "        vertical-align: top;\n",
       "    }\n",
       "\n",
       "    .dataframe thead th {\n",
       "        text-align: right;\n",
       "    }\n",
       "</style>\n",
       "<table border=\"1\" class=\"dataframe\">\n",
       "  <thead>\n",
       "    <tr style=\"text-align: right;\">\n",
       "      <th></th>\n",
       "      <th>Text</th>\n",
       "    </tr>\n",
       "  </thead>\n",
       "  <tbody>\n",
       "    <tr>\n",
       "      <th>0</th>\n",
       "      <td>['Data Scientist (PYTHON, HADOOP) job - SoftVi...</td>\n",
       "    </tr>\n",
       "    <tr>\n",
       "      <th>1</th>\n",
       "      <td>[]</td>\n",
       "    </tr>\n",
       "    <tr>\n",
       "      <th>2</th>\n",
       "      <td>['Data Scientist (PYTHON, HADOOP)']</td>\n",
       "    </tr>\n",
       "    <tr>\n",
       "      <th>3</th>\n",
       "      <td>['5-7 years of Data Modeling and Machine Learn...</td>\n",
       "    </tr>\n",
       "    <tr>\n",
       "      <th>4</th>\n",
       "      <td>['WE ARE A TRANSFORMATIONAL PARTNER\\nWe marry ...</td>\n",
       "    </tr>\n",
       "  </tbody>\n",
       "</table>\n",
       "</div>"
      ],
      "text/plain": [
       "                                                Text\n",
       "0  ['Data Scientist (PYTHON, HADOOP) job - SoftVi...\n",
       "1                                                 []\n",
       "2                ['Data Scientist (PYTHON, HADOOP)']\n",
       "3  ['5-7 years of Data Modeling and Machine Learn...\n",
       "4  ['WE ARE A TRANSFORMATIONAL PARTNER\\nWe marry ..."
      ]
     },
     "execution_count": 11,
     "metadata": {},
     "output_type": "execute_result"
    }
   ],
   "source": [
    "pd.read_csv('Softvision.csv')#.drop('0', axis=1)"
   ]
  },
  {
   "cell_type": "code",
   "execution_count": 13,
   "metadata": {},
   "outputs": [
    {
     "data": {
      "text/plain": [
       "\"['5-7 years of Data Modeling and Machine Learning Experience', '5-7 years of Python & R- Language Experience', '5-7 years of HADOOP-BIGDATA experience', 'Proficiency dealing with extraction and manipulation of relational databases (SQL)', '3 -5 years of experience in advanced statistical techniques such as predictive statistical models, customer profiling, segmentation analysis survey design and analysis and data mining', '3-5 years of experience of learning systems to analyze and filter continuous data flows.', '3-5 years of experience of analyzing large data sets to develop custom models and algorithms to drive business solutions.', '3-5 years of experience building large data sets from multiple sources to build algorithms for predicting future data characteristics.', 'Experience developing custom data models to drive recommendations.', 'Experience working in a cross-functional environment.', 'Excellent Communication Skills', 'Good Team Player', 'Able to work independently with minimum guidance', '\\\\nData Scientist jobs in Johns Creek, GA\\\\n', '\\\\nJobs at SoftVision in Johns Creek, GA\\\\n', '\\\\nData Scientist salaries in Johns Creek, GA\\\\n']\""
      ]
     },
     "execution_count": 13,
     "metadata": {},
     "output_type": "execute_result"
    }
   ],
   "source": [
    "df5['Text'][3]"
   ]
  },
  {
   "cell_type": "code",
   "execution_count": null,
   "metadata": {},
   "outputs": [],
   "source": []
  }
 ],
 "metadata": {
  "kernelspec": {
   "display_name": "Python [conda env:anaconda3]",
   "language": "python",
   "name": "conda-env-anaconda3-py"
  },
  "language_info": {
   "codemirror_mode": {
    "name": "ipython",
    "version": 3
   },
   "file_extension": ".py",
   "mimetype": "text/x-python",
   "name": "python",
   "nbconvert_exporter": "python",
   "pygments_lexer": "ipython3",
   "version": "3.6.4"
  }
 },
 "nbformat": 4,
 "nbformat_minor": 2
}
